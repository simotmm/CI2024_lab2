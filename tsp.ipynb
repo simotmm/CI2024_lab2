{
 "cells": [
  {
   "cell_type": "markdown",
   "metadata": {
    "vscode": {
     "languageId": "plaintext"
    }
   },
   "source": [
    "Copyright **`(c)`** 2024 Giovanni Squillero `<giovanni.squillero@polito.it>`  \n",
    "[`https://github.com/squillero/computational-intelligence`](https://github.com/squillero/computational-intelligence)  \n",
    "Free under certain conditions — see the [`license`](https://github.com/squillero/computational-intelligence/blob/master/LICENSE.md) for details.  "
   ]
  },
  {
   "cell_type": "code",
   "execution_count": 14,
   "metadata": {},
   "outputs": [],
   "source": [
    "import logging\n",
    "from itertools import combinations\n",
    "import pandas as pd\n",
    "import numpy as np\n",
    "from geopy.distance import geodesic\n",
    "import networkx as nx\n",
    "import random\n",
    "\n",
    "from icecream import ic\n",
    "\n",
    "logging.basicConfig(level=logging.DEBUG)"
   ]
  },
  {
   "cell_type": "code",
   "execution_count": 15,
   "metadata": {},
   "outputs": [],
   "source": [
    "INSTANCES = [\n",
    "    {\"cities\": pd.read_csv('cities/italy.csv',   header=None, names=['name', 'lat', 'lon']), \"dist_matrix\": None},\n",
    "    {\"cities\": pd.read_csv('cities/china.csv',   header=None, names=['name', 'lat', 'lon']), \"dist_matrix\": None},\n",
    "    {\"cities\": pd.read_csv('cities/russia.csv',  header=None, names=['name', 'lat', 'lon']), \"dist_matrix\": None},\n",
    "    {\"cities\": pd.read_csv('cities/us.csv',      header=None, names=['name', 'lat', 'lon']), \"dist_matrix\": None},\n",
    "    {\"cities\": pd.read_csv('cities/vanuatu.csv', header=None, names=['name', 'lat', 'lon']), \"dist_matrix\": None}\n",
    "]\n",
    "for instance in INSTANCES:\n",
    "    cities = instance[\"cities\"]\n",
    "    dist_matrix = np.zeros((len(cities), len(cities)))\n",
    "    for c1, c2 in combinations(cities.itertuples(), 2):\n",
    "        dist_matrix[c1.Index, c2.Index] = dist_matrix[c2.Index, c1.Index] = geodesic(\n",
    "            (c1.lat, c1.lon), (c2.lat, c2.lon)\n",
    "        ).km\n",
    "    instance[\"dist_matrix\"] = dist_matrix\n",
    "    cities.head()"
   ]
  },
  {
   "cell_type": "markdown",
   "metadata": {},
   "source": [
    "## Lab2 - TSP\n",
    "\n",
    "https://www.wolframcloud.com/obj/giovanni.squillero/Published/Lab2-tsp.nb"
   ]
  },
  {
   "cell_type": "code",
   "execution_count": 16,
   "metadata": {},
   "outputs": [],
   "source": [
    "def tsp_cost(instance, tsp):\n",
    "    cities = instance[\"cities\"]\n",
    "    dist_matrix = instance[\"dist_matrix\"]\n",
    "    assert tsp[0] == tsp[-1]\n",
    "    assert set(tsp) == set(range(len(cities)))\n",
    "\n",
    "    tot_cost = 0\n",
    "    for c1, c2 in zip(tsp, tsp[1:]):\n",
    "        tot_cost += dist_matrix[c1, c2]\n",
    "    return tot_cost"
   ]
  },
  {
   "cell_type": "markdown",
   "metadata": {},
   "source": [
    "## First Greedy Algorithm"
   ]
  },
  {
   "cell_type": "code",
   "execution_count": 17,
   "metadata": {},
   "outputs": [],
   "source": [
    "def greedy_1(instance):\n",
    "    cities = instance[\"cities\"]\n",
    "    dist_matrix = instance[\"dist_matrix\"]\n",
    "    visited = np.full(len(cities), False)\n",
    "    dist = dist_matrix.copy()\n",
    "    city = 0\n",
    "    visited[city] = True\n",
    "    tsp = list()\n",
    "    tsp.append(int(city))\n",
    "    while not np.all(visited):\n",
    "        dist[:, city] = np.inf\n",
    "        closest = np.argmin(dist[city])\n",
    "        #logging.debug(\n",
    "        #    f\"step: {cities.at[city,'name']} -> {cities.at[closest,'name']} ({dist_matrix[city,closest]:.2f}km)\"\n",
    "        #)\n",
    "        visited[closest] = True\n",
    "        city = closest\n",
    "        tsp.append(int(city))\n",
    "    #logging.debug(\n",
    "    #    f\"step: {cities.at[tsp[-1],'name']} -> {cities.at[tsp[0],'name']} ({dist_matrix[tsp[-1],tsp[0]]:.2f}km)\"\n",
    "    #)\n",
    "    tsp.append(tsp[0])\n",
    "\n",
    "\n",
    "    logging.info(f\"result: Found a path of {len(tsp)-1} steps, total length {tsp_cost(instance, tsp):.2f}km\")"
   ]
  },
  {
   "cell_type": "code",
   "execution_count": 18,
   "metadata": {},
   "outputs": [
    {
     "name": "stderr",
     "output_type": "stream",
     "text": [
      "INFO:root:instance 1:\n",
      "INFO:root:result: Found a path of 46 steps, total length 4436.03km\n",
      "INFO:root:instance 2:\n",
      "INFO:root:result: Found a path of 726 steps, total length 63962.92km\n",
      "INFO:root:instance 3:\n",
      "INFO:root:result: Found a path of 167 steps, total length 42334.16km\n",
      "INFO:root:instance 4:\n",
      "INFO:root:result: Found a path of 326 steps, total length 48050.03km\n",
      "INFO:root:instance 5:\n",
      "INFO:root:result: Found a path of 8 steps, total length 1475.53km\n"
     ]
    }
   ],
   "source": [
    "i=1\n",
    "for instance in INSTANCES:\n",
    "    logging.info(f\"instance {i}:\")\n",
    "    greedy_1(instance)\n",
    "    i += 1 "
   ]
  },
  {
   "cell_type": "markdown",
   "metadata": {},
   "source": [
    "# EA"
   ]
  },
  {
   "cell_type": "code",
   "execution_count": 19,
   "metadata": {},
   "outputs": [],
   "source": [
    "def ea(instance, population_size=100, generations=500, mutation_rate=0.1):\n",
    "    cities = instance[\"cities\"]\n",
    "    dist_matrix = instance[\"dist_matrix\"]\n",
    "    num_cities = len(cities)\n",
    "\n",
    "    # Funzione per calcolare il costo di un percorso\n",
    "    def path_cost(path):\n",
    "        return tsp_cost(instance, path + [path[0]])\n",
    "\n",
    "    # Genera la popolazione iniziale con percorsi casuali\n",
    "    population = [random.sample(range(num_cities), num_cities) for _ in range(population_size)]\n",
    "\n",
    "    for generation in range(generations):\n",
    "        # Calcola il costo di ogni percorso nella popolazione\n",
    "        fitness_scores = [(path, path_cost(path)) for path in population]\n",
    "        fitness_scores.sort(key=lambda x: x[1])  # Ordina per costo crescente\n",
    "        \n",
    "        # Logging del miglior percorso della generazione attuale\n",
    "        #logging.debug(f\"Generation {generation + 1}: Best cost = {fitness_scores[0][1]:.2f} km\")\n",
    "\n",
    "        # Seleziona metà della popolazione con i percorsi a costo più basso\n",
    "        selected = [path for path, _ in fitness_scores[:population_size // 2]]\n",
    "\n",
    "        # Crossover: combina percorsi per generare nuovi percorsi\n",
    "        offspring = []\n",
    "        while len(offspring) < population_size:\n",
    "            parent1, parent2 = random.sample(selected, 2)\n",
    "            cut = random.randint(1, num_cities - 2)\n",
    "            child = parent1[:cut] + [city for city in parent2 if city not in parent1[:cut]]\n",
    "            offspring.append(child)\n",
    "\n",
    "        # Mutazione: introduce piccole modifiche nei percorsi\n",
    "        for child in offspring:\n",
    "            if random.random() < mutation_rate:\n",
    "                i, j = random.sample(range(num_cities), 2)\n",
    "                child[i], child[j] = child[j], child[i]\n",
    "\n",
    "        # Aggiorna la popolazione\n",
    "        population = offspring\n",
    "\n",
    "    # Calcola il miglior percorso trovato\n",
    "    best_path, best_cost = min(fitness_scores, key=lambda x: x[1])\n",
    "    best_path.append(best_path[0])\n",
    "\n",
    "    # Logging finale con il risultato del percorso ottimale trovato\n",
    "    logging.info(f\"result: Found a path of {len(best_path) - 1} steps, total length {best_cost:.2f}km\")\n"
   ]
  },
  {
   "cell_type": "code",
   "execution_count": 20,
   "metadata": {},
   "outputs": [
    {
     "name": "stderr",
     "output_type": "stream",
     "text": [
      "INFO:root:instance 1:\n",
      "INFO:root:result: Found a path of 46 steps, total length 5162.24km\n",
      "INFO:root:instance 2:\n",
      "INFO:root:result: Found a path of 726 steps, total length 584576.85km\n",
      "INFO:root:instance 3:\n",
      "INFO:root:result: Found a path of 167 steps, total length 132025.59km\n",
      "INFO:root:instance 4:\n",
      "INFO:root:result: Found a path of 326 steps, total length 270439.71km\n",
      "INFO:root:instance 5:\n",
      "INFO:root:result: Found a path of 8 steps, total length 1345.54km\n"
     ]
    }
   ],
   "source": [
    "i=1\n",
    "for instance in INSTANCES:\n",
    "    logging.info(f\"instance {i}:\")\n",
    "    ea(instance)\n",
    "    i += 1 "
   ]
  },
  {
   "cell_type": "markdown",
   "metadata": {},
   "source": [
    "## Second Greedy Algorithm"
   ]
  },
  {
   "cell_type": "code",
   "execution_count": 21,
   "metadata": {},
   "outputs": [],
   "source": [
    "def cyclic(edges):\n",
    "    G = nx.Graph()\n",
    "    G.add_edges_from(edges)\n",
    "    try:\n",
    "        nx.find_cycle(G)\n",
    "        return True\n",
    "    except:\n",
    "        return False\n",
    "\n",
    "def greedy_2(instance):\n",
    "    cities = instance[\"cities\"]\n",
    "    dist_matrix = instance[\"dist_matrix\"]\n",
    "    segments = [({c1, c2}, float(dist_matrix[c1, c2])) for c1, c2 in combinations(range(len(cities)), 2)]\n",
    "    visited = set()\n",
    "    edges = set()\n",
    "    tsp = []\n",
    "\n",
    "    while len(visited) < len(cities):\n",
    "        # Trova il segmento più corto che non forma un ciclo e aggiungilo\n",
    "        shortest = next(s for s in sorted(segments, key=lambda e: e[1]) if not cyclic(edges | {tuple(s[0])}))\n",
    "        edges.add(tuple(shortest[0]))\n",
    "        visited |= shortest[0]\n",
    "\n",
    "        # Aggiungi le città visitate alla sequenza tsp\n",
    "        for city in shortest[0]:\n",
    "            if city not in tsp:\n",
    "                tsp.append(city)\n",
    "\n",
    "        # Log ogni passo\n",
    "        #logging.debug(f\"step: Added edge {shortest[0]} with cost {shortest[1]:.2f}km\")\n",
    "\n",
    "        # Rimuove i segmenti che formano cicli\n",
    "        segments = [s for s in segments if not cyclic(edges | {tuple(s[0])})]\n",
    "\n",
    "    # Chiudi il ciclo tornando al punto di partenza\n",
    "    tsp.append(tsp[0])\n",
    "    logging.info(f\"result: Found a path of {len(tsp) - 1} steps, total length {tsp_cost(instance, tsp):.2f}km\")\n"
   ]
  },
  {
   "cell_type": "code",
   "execution_count": 22,
   "metadata": {},
   "outputs": [],
   "source": [
    "#i=1\n",
    "#for instance in INSTANCES:\n",
    "#    logging.info(f\"instance {i}:\")\n",
    "#    greedy_2(instance)\n",
    "#    i += 1 "
   ]
  }
 ],
 "metadata": {
  "kernelspec": {
   "display_name": "venv",
   "language": "python",
   "name": "python3"
  },
  "language_info": {
   "codemirror_mode": {
    "name": "ipython",
    "version": 3
   },
   "file_extension": ".py",
   "mimetype": "text/x-python",
   "name": "python",
   "nbconvert_exporter": "python",
   "pygments_lexer": "ipython3",
   "version": "3.12.7"
  }
 },
 "nbformat": 4,
 "nbformat_minor": 2
}
