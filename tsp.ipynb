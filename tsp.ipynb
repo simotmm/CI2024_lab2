{
 "cells": [
  {
   "cell_type": "markdown",
   "metadata": {
    "vscode": {
     "languageId": "plaintext"
    }
   },
   "source": [
    "Copyright **`(c)`** 2024 Giovanni Squillero `<giovanni.squillero@polito.it>`  \n",
    "[`https://github.com/squillero/computational-intelligence`](https://github.com/squillero/computational-intelligence)  \n",
    "Free under certain conditions — see the [`license`](https://github.com/squillero/computational-intelligence/blob/master/LICENSE.md) for details.  "
   ]
  },
  {
   "cell_type": "code",
   "execution_count": null,
   "metadata": {},
   "outputs": [],
   "source": [
    "import logging\n",
    "from itertools import combinations\n",
    "import pandas as pd\n",
    "import numpy as np\n",
    "from geopy.distance import geodesic\n",
    "import random\n",
    "from icecream import ic\n",
    "\n",
    "logging.basicConfig(level=logging.DEBUG)"
   ]
  },
  {
   "cell_type": "code",
   "execution_count": 116,
   "metadata": {},
   "outputs": [],
   "source": [
    "INSTANCES = [\n",
    "    {\"cities\": pd.read_csv(\"cities/italy.csv\",   header=None, names=[\"name\", \"lat\", \"lon\"]), \"dist_matrix\": None, \"name\": \"Italy\"},\n",
    "    {\"cities\": pd.read_csv(\"cities/china.csv\",   header=None, names=[\"name\", \"lat\", \"lon\"]), \"dist_matrix\": None, \"name\": \"China\"},\n",
    "    {\"cities\": pd.read_csv(\"cities/russia.csv\",  header=None, names=[\"name\", \"lat\", \"lon\"]), \"dist_matrix\": None, \"name\": \"Russia\"},\n",
    "    {\"cities\": pd.read_csv(\"cities/us.csv\",      header=None, names=[\"name\", \"lat\", \"lon\"]), \"dist_matrix\": None, \"name\": \"US\"},\n",
    "    {\"cities\": pd.read_csv(\"cities/vanuatu.csv\", header=None, names=[\"name\", \"lat\", \"lon\"]), \"dist_matrix\": None, \"name\": \"Vanuatu\"}\n",
    "]\n",
    "for instance in INSTANCES:\n",
    "    cities = instance[\"cities\"]\n",
    "    dist_matrix = np.zeros((len(cities), len(cities)))\n",
    "    for c1, c2 in combinations(cities.itertuples(), 2):\n",
    "        dist_matrix[c1.Index, c2.Index] = dist_matrix[c2.Index, c1.Index] = geodesic(\n",
    "            (c1.lat, c1.lon), (c2.lat, c2.lon)\n",
    "        ).km\n",
    "    instance[\"dist_matrix\"] = dist_matrix\n",
    "    cities.head()"
   ]
  },
  {
   "cell_type": "markdown",
   "metadata": {},
   "source": [
    "## Lab2 - TSP\n",
    "\n",
    "https://www.wolframcloud.com/obj/giovanni.squillero/Published/Lab2-tsp.nb"
   ]
  },
  {
   "cell_type": "code",
   "execution_count": 117,
   "metadata": {},
   "outputs": [],
   "source": [
    "def tsp_cost(instance, tsp):\n",
    "    cities = instance[\"cities\"]\n",
    "    dist_matrix = instance[\"dist_matrix\"]\n",
    "    assert tsp[0] == tsp[-1]\n",
    "    assert set(tsp) == set(range(len(cities)))\n",
    "\n",
    "    tot_cost = 0\n",
    "    for c1, c2 in zip(tsp, tsp[1:]):\n",
    "        tot_cost += dist_matrix[c1, c2]\n",
    "    return tot_cost"
   ]
  },
  {
   "cell_type": "markdown",
   "metadata": {},
   "source": [
    "## Greedy Algorithm"
   ]
  },
  {
   "cell_type": "code",
   "execution_count": 118,
   "metadata": {},
   "outputs": [],
   "source": [
    "def greedy(instance, print):\n",
    "    cities = instance[\"cities\"]\n",
    "    dist_matrix = instance[\"dist_matrix\"]\n",
    "    visited = np.full(len(cities), False)\n",
    "    dist = dist_matrix.copy()\n",
    "    city = 0\n",
    "    visited[city] = True\n",
    "    tsp = list()\n",
    "    tsp.append(int(city))\n",
    "    while not np.all(visited):\n",
    "        dist[:, city] = np.inf\n",
    "        closest = np.argmin(dist[city])\n",
    "        #logging.debug(\n",
    "        #    f\"step: {cities.at[city,'name']} -> {cities.at[closest,'name']} ({dist_matrix[city,closest]:.2f}km)\"\n",
    "        #)\n",
    "        visited[closest] = True\n",
    "        city = closest\n",
    "        tsp.append(int(city))\n",
    "    #logging.debug(\n",
    "    #    f\"step: {cities.at[tsp[-1],'name']} -> {cities.at[tsp[0],'name']} ({dist_matrix[tsp[-1],tsp[0]]:.2f}km)\"\n",
    "    #)\n",
    "    tsp.append(tsp[0])\n",
    "\n",
    "    if print:\n",
    "        logging.info(f\" result: Found a path of {len(tsp)-1} steps, total length {tsp_cost(instance, tsp):.2f}km\")\n",
    "    return tsp"
   ]
  },
  {
   "cell_type": "code",
   "execution_count": 119,
   "metadata": {},
   "outputs": [
    {
     "name": "stderr",
     "output_type": "stream",
     "text": [
      "INFO:root: instance 1 (Italy):\n",
      "INFO:root: result: Found a path of 46 steps, total length 4436.03km\n",
      "INFO:root: instance 2 (China):\n",
      "INFO:root: result: Found a path of 726 steps, total length 63962.92km\n",
      "INFO:root: instance 3 (Russia):\n",
      "INFO:root: result: Found a path of 167 steps, total length 42334.16km\n",
      "INFO:root: instance 4 (US):\n",
      "INFO:root: result: Found a path of 326 steps, total length 48050.03km\n",
      "INFO:root: instance 5 (Vanuatu):\n",
      "INFO:root: result: Found a path of 8 steps, total length 1475.53km\n"
     ]
    }
   ],
   "source": [
    "i=1\n",
    "for instance in INSTANCES:\n",
    "    logging.info(f\" instance {i} ({instance[\"name\"]}):\")\n",
    "    greedy(instance, True)\n",
    "    i += 1 "
   ]
  },
  {
   "cell_type": "markdown",
   "metadata": {},
   "source": [
    "# Evolutionary Algorithm"
   ]
  },
  {
   "cell_type": "code",
   "execution_count": null,
   "metadata": {},
   "outputs": [],
   "source": [
    "def ea(instance, pop_size=100, generations=500, initial_pop_multiplier=2, mutation_rate=0.1, elitism_rate=0.05):\n",
    "    # Dati di input: città e matrice delle distanze\n",
    "    cities = instance[\"cities\"]\n",
    "    dist_matrix = instance[\"dist_matrix\"]\n",
    "    num_cities = len(cities)\n",
    "\n",
    "    # Funzione per calcolare il costo di un percorso\n",
    "    def path_cost(path):\n",
    "        return tsp_cost(instance, path + [path[0]])\n",
    "\n",
    "    # Selezione tramite torneo: seleziona il percorso con il costo minimo tra k individui\n",
    "    def tournament_selection(population, k=5):\n",
    "        tournament = random.sample(population, k)\n",
    "        return min(tournament, key=path_cost)\n",
    "    \n",
    "    # Operatore di crossover: combina due genitori per produrre un figlio\n",
    "    def order_crossover(parent1, parent2):\n",
    "        start, end = sorted(random.sample(range(num_cities), 2))  # Segmento da copiare dal primo genitore\n",
    "        child = [None] * num_cities\n",
    "        child[start:end] = parent1[start:end]  # Copia il segmento nel figlio\n",
    "        pos = end\n",
    "        for city in parent2:  # Riempie le restanti città evitando duplicati\n",
    "            if city not in child:\n",
    "                if pos >= num_cities:\n",
    "                    pos = 0\n",
    "                child[pos] = city\n",
    "                pos += 1\n",
    "        return child\n",
    "    \n",
    "    # Operatore di mutazione: inverte un sottoinsieme casuale del percorso\n",
    "    def inversion_mutation(tour):\n",
    "        i, j = sorted(random.sample(range(num_cities), 2))\n",
    "        tour[i:j] = reversed(tour[i:j])\n",
    "        return tour\n",
    "\n",
    "    # Inizializzazione della popolazione con percorsi casuali\n",
    "    population = [random.sample(range(num_cities), num_cities) for _ in range(pop_size * initial_pop_multiplier)]\n",
    "    best_solution = min(population, key=path_cost)  # Trova il percorso migliore iniziale\n",
    "    best_cost = path_cost(best_solution)\n",
    "\n",
    "    # Ciclo evolutivo principale\n",
    "    for generation in range(1, generations + 1):\n",
    "        new_population = []\n",
    "\n",
    "        # Elitismo: mantiene una percentuale dei migliori individui\n",
    "        elite_count = max(1, int(elitism_rate * pop_size))\n",
    "        elite_individuals = sorted(population, key=path_cost)[:elite_count]\n",
    "        new_population.extend(elite_individuals)\n",
    "\n",
    "        # Generazione di nuovi individui attraverso crossover e mutazione\n",
    "        while len(new_population) < pop_size:\n",
    "            parent1 = tournament_selection(population, k=10)\n",
    "            parent2 = tournament_selection(population, k=10)\n",
    "\n",
    "            prob = 0.8 # Applica crossover con probabilità 80%\n",
    "            if random.random() < prob: \n",
    "                child1 = order_crossover(parent1, parent2)\n",
    "                child2 = order_crossover(parent2, parent1)\n",
    "            else:  # In caso contrario, copia i genitori direttamente\n",
    "                child1, child2 = parent1[:], parent2[:]\n",
    "\n",
    "            # Applica mutazione con probabilità adattiva che decresce nel tempo\n",
    "            adaptive_mutation_rate = max(0.01, mutation_rate - (mutation_rate * generation / generations))\n",
    "            if random.random() < adaptive_mutation_rate:\n",
    "                child1 = inversion_mutation(child1)\n",
    "            if random.random() < adaptive_mutation_rate:\n",
    "                child2 = inversion_mutation(child2)\n",
    "\n",
    "            new_population.extend([child1, child2])\n",
    "\n",
    "        # Aggiorna la popolazione con i nuovi individui\n",
    "        population = new_population[:pop_size]\n",
    "\n",
    "        # Aggiorna la migliore soluzione se è stato trovato un percorso con costo inferiore\n",
    "        current_best = min(population, key=path_cost)\n",
    "        current_cost = path_cost(current_best)\n",
    "\n",
    "        if current_cost < best_cost:\n",
    "            best_solution = current_best\n",
    "            best_cost = current_cost\n",
    "            # logging.info(f\"Generation {generation}: New best cost = {best_cost:.2f} km\")\n",
    "\n",
    "    # Completa il percorso tornando alla città di partenza\n",
    "    best_solution.append(best_solution[0])\n",
    "    logging.info(f\" result: Found a path of {len(best_solution) - 1} steps, total length {best_cost:.2f}km\")\n",
    "\n",
    "    return best_solution, best_cost\n"
   ]
  },
  {
   "cell_type": "code",
   "execution_count": 121,
   "metadata": {},
   "outputs": [
    {
     "name": "stderr",
     "output_type": "stream",
     "text": [
      "INFO:root: instance 1 (Italy):\n",
      "INFO:root: result: Found a path of 46 steps, total length 4721.66km\n",
      "INFO:root: instance 2 (China):\n",
      "INFO:root: result: Found a path of 726 steps, total length 367689.23km\n",
      "INFO:root: instance 3 (Russia):\n",
      "INFO:root: result: Found a path of 167 steps, total length 65540.95km\n",
      "INFO:root: instance 4 (US):\n",
      "INFO:root: result: Found a path of 326 steps, total length 142000.39km\n",
      "INFO:root: instance 5 (Vanuatu):\n",
      "INFO:root: result: Found a path of 8 steps, total length 1345.54km\n"
     ]
    }
   ],
   "source": [
    "i=1\n",
    "for instance in INSTANCES:\n",
    "    logging.info(f\" instance {i} ({instance[\"name\"]}):\")\n",
    "    ea(instance)\n",
    "    i += 1 "
   ]
  }
 ],
 "metadata": {
  "kernelspec": {
   "display_name": "venv",
   "language": "python",
   "name": "python3"
  },
  "language_info": {
   "codemirror_mode": {
    "name": "ipython",
    "version": 3
   },
   "file_extension": ".py",
   "mimetype": "text/x-python",
   "name": "python",
   "nbconvert_exporter": "python",
   "pygments_lexer": "ipython3",
   "version": "3.12.7"
  }
 },
 "nbformat": 4,
 "nbformat_minor": 2
}
